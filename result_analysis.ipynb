{
 "cells": [
  {
   "cell_type": "code",
   "execution_count": 1,
   "id": "f7d723b8-342f-4202-98da-5aef78313243",
   "metadata": {
    "tags": []
   },
   "outputs": [],
   "source": [
    "import json\n",
    "import pandas as pd\n",
    "import networkx as nx\n",
    "import seaborn as sns\n",
    "import matplotlib.pyplot as plt \n",
    "import numpy as np"
   ]
  },
  {
   "cell_type": "code",
   "execution_count": 2,
   "id": "64799719-7ab6-4454-8df4-c6333dbf792d",
   "metadata": {
    "tags": []
   },
   "outputs": [],
   "source": [
    "def load_config(config_file):\n",
    "    with open(config_file, 'r') as f:\n",
    "        return json.load(f)"
   ]
  },
  {
   "cell_type": "code",
   "execution_count": 3,
   "id": "97611236-c9e9-45bc-8024-3209d5edff5b",
   "metadata": {
    "tags": []
   },
   "outputs": [],
   "source": [
    "res= './results/results_ratio_hat.json'\n"
   ]
  },
  {
   "cell_type": "code",
   "execution_count": 4,
   "id": "48277b1a-3024-48b3-8b2d-04d88f367fde",
   "metadata": {
    "tags": []
   },
   "outputs": [],
   "source": [
    "res = load_config(res)"
   ]
  },
  {
   "cell_type": "markdown",
   "id": "6e5a8e4c-99fc-49e0-90db-3312c3655d53",
   "metadata": {},
   "source": [
    "# get the results\n"
   ]
  },
  {
   "cell_type": "code",
   "execution_count": 6,
   "id": "83c76a1f-a042-4038-b977-06ee1eca0b48",
   "metadata": {
    "tags": []
   },
   "outputs": [],
   "source": [
    "new_res = {}\n",
    "res_id = {}\n",
    "for item in res:\n",
    "    high = res[item][0]\n",
    "    id_ = 0\n",
    "    for i in range(len(res[item])):\n",
    "        if res[item][i][-1] > high[-1]:\n",
    "            high = res[item][i]\n",
    "            id_ = i\n",
    "    new_res[item] = high\n",
    "    res_id[item] = id_ * 0.02"
   ]
  },
  {
   "cell_type": "code",
   "execution_count": 11,
   "id": "0ffa25a3-6071-4d2d-a388-937cc05a185f",
   "metadata": {
    "tags": []
   },
   "outputs": [
    {
     "data": {
      "text/plain": [
       "{'diabetes': [0.78774297597827,\n",
       "  0.7964638053609154,\n",
       "  0.78774297597827,\n",
       "  0.7848779079852014],\n",
       " 'plantgrowth': [0.683535762483131,\n",
       "  0.6887593522461944,\n",
       "  0.683535762483131,\n",
       "  0.6824637023283435]}"
      ]
     },
     "execution_count": 11,
     "metadata": {},
     "output_type": "execute_result"
    }
   ],
   "source": [
    "new_res"
   ]
  },
  {
   "cell_type": "code",
   "execution_count": 13,
   "id": "4402c5ab-4db9-4d10-aac1-6623a8c5960b",
   "metadata": {},
   "outputs": [
    {
     "data": {
      "text/plain": [
       "{'diabetes': 0.38, 'plantgrowth': 0.52}"
      ]
     },
     "execution_count": 13,
     "metadata": {},
     "output_type": "execute_result"
    }
   ],
   "source": [
    "res_id"
   ]
  },
  {
   "cell_type": "code",
   "execution_count": null,
   "id": "6cd53234-637a-4a8d-b186-c9df9603bf01",
   "metadata": {},
   "outputs": [],
   "source": []
  },
  {
   "cell_type": "code",
   "execution_count": null,
   "id": "075d0d3e-5b2c-4e91-b044-d63ecd9d68d2",
   "metadata": {},
   "outputs": [],
   "source": []
  },
  {
   "cell_type": "code",
   "execution_count": null,
   "id": "a9e8fba4-b034-4490-8d75-5256ffe7c4eb",
   "metadata": {},
   "outputs": [],
   "source": []
  }
 ],
 "metadata": {
  "kernelspec": {
   "display_name": "torch-gpu",
   "language": "python",
   "name": "torch-gpu"
  },
  "language_info": {
   "codemirror_mode": {
    "name": "ipython",
    "version": 3
   },
   "file_extension": ".py",
   "mimetype": "text/x-python",
   "name": "python",
   "nbconvert_exporter": "python",
   "pygments_lexer": "ipython3",
   "version": "3.11.7"
  }
 },
 "nbformat": 4,
 "nbformat_minor": 5
}
